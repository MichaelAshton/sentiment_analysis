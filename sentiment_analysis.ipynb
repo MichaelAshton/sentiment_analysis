{
  "nbformat": 4,
  "nbformat_minor": 0,
  "metadata": {
    "colab": {
      "name": "sentiment_analysis.ipynb",
      "version": "0.3.2",
      "provenance": [],
      "collapsed_sections": [],
      "include_colab_link": true
    },
    "kernelspec": {
      "name": "python3",
      "display_name": "Python 3"
    }
  },
  "cells": [
    {
      "cell_type": "markdown",
      "metadata": {
        "id": "view-in-github",
        "colab_type": "text"
      },
      "source": [
        "<a href=\"https://colab.research.google.com/github/MichaelAshton/sentiment_analysis/blob/master/sentiment_analysis.ipynb\" target=\"_parent\"><img src=\"https://colab.research.google.com/assets/colab-badge.svg\" alt=\"Open In Colab\"/></a>"
      ]
    },
    {
      "metadata": {
        "id": "8ZeElsQwVznI",
        "colab_type": "code",
        "colab": {
          "base_uri": "https://localhost:8080/",
          "height": 297
        },
        "outputId": "8210db33-7fc0-4b2f-c6f0-5574560bad2d"
      },
      "cell_type": "code",
      "source": [
        "!pip install tweepy\n",
        "!pip install vaderSentiment"
      ],
      "execution_count": 1,
      "outputs": [
        {
          "output_type": "stream",
          "text": [
            "Requirement already satisfied: tweepy in /usr/local/lib/python3.6/dist-packages (3.6.0)\n",
            "Requirement already satisfied: requests>=2.11.1 in /usr/local/lib/python3.6/dist-packages (from tweepy) (2.18.4)\n",
            "Requirement already satisfied: PySocks>=1.5.7 in /usr/local/lib/python3.6/dist-packages (from tweepy) (1.6.8)\n",
            "Requirement already satisfied: requests-oauthlib>=0.7.0 in /usr/local/lib/python3.6/dist-packages (from tweepy) (1.2.0)\n",
            "Requirement already satisfied: six>=1.10.0 in /usr/local/lib/python3.6/dist-packages (from tweepy) (1.11.0)\n",
            "Requirement already satisfied: urllib3<1.23,>=1.21.1 in /usr/local/lib/python3.6/dist-packages (from requests>=2.11.1->tweepy) (1.22)\n",
            "Requirement already satisfied: certifi>=2017.4.17 in /usr/local/lib/python3.6/dist-packages (from requests>=2.11.1->tweepy) (2018.11.29)\n",
            "Requirement already satisfied: idna<2.7,>=2.5 in /usr/local/lib/python3.6/dist-packages (from requests>=2.11.1->tweepy) (2.6)\n",
            "Requirement already satisfied: chardet<3.1.0,>=3.0.2 in /usr/local/lib/python3.6/dist-packages (from requests>=2.11.1->tweepy) (3.0.4)\n",
            "Requirement already satisfied: oauthlib>=3.0.0 in /usr/local/lib/python3.6/dist-packages (from requests-oauthlib>=0.7.0->tweepy) (3.0.1)\n",
            "Collecting vaderSentiment\n",
            "\u001b[?25l  Downloading https://files.pythonhosted.org/packages/86/9e/c53e1fc61aac5ee490a6ac5e21b1ac04e55a7c2aba647bb8411c9aadf24e/vaderSentiment-3.2.1-py2.py3-none-any.whl (125kB)\n",
            "\u001b[K    100% |████████████████████████████████| 133kB 5.7MB/s \n",
            "\u001b[?25hInstalling collected packages: vaderSentiment\n",
            "Successfully installed vaderSentiment-3.2.1\n"
          ],
          "name": "stdout"
        }
      ]
    },
    {
      "metadata": {
        "id": "mM9JF3TKWFeN",
        "colab_type": "code",
        "colab": {
          "base_uri": "https://localhost:8080/",
          "height": 72
        },
        "outputId": "eac3f73a-73c5-4e75-90be-636c872883e1"
      },
      "cell_type": "code",
      "source": [
        "\n",
        "import tweepy\n",
        "import pandas as pd\n",
        "from nltk.sentiment.vader import SentimentIntensityAnalyzer"
      ],
      "execution_count": 2,
      "outputs": [
        {
          "output_type": "stream",
          "text": [
            "/usr/local/lib/python3.6/dist-packages/nltk/twitter/__init__.py:20: UserWarning: The twython library has not been installed. Some functionality from the twitter package will not be available.\n",
            "  warnings.warn(\"The twython library has not been installed. \"\n"
          ],
          "name": "stderr"
        }
      ]
    },
    {
      "metadata": {
        "id": "aqbTOqsZWLCx",
        "colab_type": "code",
        "colab": {}
      },
      "cell_type": "code",
      "source": [
        "#My Twitter API Authentication Variables\n",
        "consumer_key = ''\n",
        "consumer_secret = ''\n",
        "access_token = ''\n",
        "access_token_secret = ''"
      ],
      "execution_count": 0,
      "outputs": []
    },
    {
      "metadata": {
        "id": "5HsmnejqWZkL",
        "colab_type": "code",
        "colab": {
          "base_uri": "https://localhost:8080/",
          "height": 373
        },
        "outputId": "8c26c1e7-b6be-4b28-f45b-44ed8d60b0f9"
      },
      "cell_type": "code",
      "source": [
        "auth = tweepy.OAuthHandler(consumer_key, consumer_secret)\n",
        "auth.set_access_token(access_token, access_token_secret)\n",
        "\n",
        "api = tweepy.API(auth)\n",
        "\n",
        "tweets = api.search('openai gpt-2', count=200)\n",
        "\n",
        "\n",
        "data = pd.DataFrame(data=[tweet.text for tweet in tweets], columns=['Tweets'])\n",
        "\n",
        "display(data.head(10))\n",
        "\n",
        "\n",
        "print(tweets[0].created_at)"
      ],
      "execution_count": 41,
      "outputs": [
        {
          "output_type": "display_data",
          "data": {
            "text/html": [
              "<div>\n",
              "<style scoped>\n",
              "    .dataframe tbody tr th:only-of-type {\n",
              "        vertical-align: middle;\n",
              "    }\n",
              "\n",
              "    .dataframe tbody tr th {\n",
              "        vertical-align: top;\n",
              "    }\n",
              "\n",
              "    .dataframe thead th {\n",
              "        text-align: right;\n",
              "    }\n",
              "</style>\n",
              "<table border=\"1\" class=\"dataframe\">\n",
              "  <thead>\n",
              "    <tr style=\"text-align: right;\">\n",
              "      <th></th>\n",
              "      <th>Tweets</th>\n",
              "    </tr>\n",
              "  </thead>\n",
              "  <tbody>\n",
              "    <tr>\n",
              "      <th>0</th>\n",
              "      <td>RT @joelgrus: Here's the code I used to sample...</td>\n",
              "    </tr>\n",
              "    <tr>\n",
              "      <th>1</th>\n",
              "      <td>RT @surfstudio: Gpt-2 #ai text generator is so...</td>\n",
              "    </tr>\n",
              "    <tr>\n",
              "      <th>2</th>\n",
              "      <td>RT @gp_pulipaka: Text-Generator with OpenAI GP...</td>\n",
              "    </tr>\n",
              "    <tr>\n",
              "      <th>3</th>\n",
              "      <td>RT @gp_pulipaka: Text-Generator with OpenAI GP...</td>\n",
              "    </tr>\n",
              "    <tr>\n",
              "      <th>4</th>\n",
              "      <td>RT @gp_pulipaka: Text-Generator with OpenAI GP...</td>\n",
              "    </tr>\n",
              "    <tr>\n",
              "      <th>5</th>\n",
              "      <td>RT @gp_pulipaka: Text-Generator with OpenAI GP...</td>\n",
              "    </tr>\n",
              "    <tr>\n",
              "      <th>6</th>\n",
              "      <td>RT @asierarranz: ¿No sabes cuál es el sentido ...</td>\n",
              "    </tr>\n",
              "    <tr>\n",
              "      <th>7</th>\n",
              "      <td>RT @AINewsFeed: OpenAI says its text-generatin...</td>\n",
              "    </tr>\n",
              "    <tr>\n",
              "      <th>8</th>\n",
              "      <td>RT @BenSingletonNYC: OpenAI’s GPT-2: the model...</td>\n",
              "    </tr>\n",
              "    <tr>\n",
              "      <th>9</th>\n",
              "      <td>RT @BenSingletonNYC: OpenAI’s GPT-2: the model...</td>\n",
              "    </tr>\n",
              "  </tbody>\n",
              "</table>\n",
              "</div>"
            ],
            "text/plain": [
              "                                              Tweets\n",
              "0  RT @joelgrus: Here's the code I used to sample...\n",
              "1  RT @surfstudio: Gpt-2 #ai text generator is so...\n",
              "2  RT @gp_pulipaka: Text-Generator with OpenAI GP...\n",
              "3  RT @gp_pulipaka: Text-Generator with OpenAI GP...\n",
              "4  RT @gp_pulipaka: Text-Generator with OpenAI GP...\n",
              "5  RT @gp_pulipaka: Text-Generator with OpenAI GP...\n",
              "6  RT @asierarranz: ¿No sabes cuál es el sentido ...\n",
              "7  RT @AINewsFeed: OpenAI says its text-generatin...\n",
              "8  RT @BenSingletonNYC: OpenAI’s GPT-2: the model...\n",
              "9  RT @BenSingletonNYC: OpenAI’s GPT-2: the model..."
            ]
          },
          "metadata": {
            "tags": []
          }
        },
        {
          "output_type": "stream",
          "text": [
            "2019-02-24 16:26:20\n"
          ],
          "name": "stdout"
        }
      ]
    },
    {
      "metadata": {
        "id": "quyRlGsAW-tf",
        "colab_type": "code",
        "colab": {
          "base_uri": "https://localhost:8080/",
          "height": 69
        },
        "outputId": "3b93d493-27ef-4ee7-bcef-f5f81cedbf85"
      },
      "cell_type": "code",
      "source": [
        "\n",
        "import nltk\n",
        "nltk.download('vader_lexicon')"
      ],
      "execution_count": 42,
      "outputs": [
        {
          "output_type": "stream",
          "text": [
            "[nltk_data] Downloading package vader_lexicon to /root/nltk_data...\n",
            "[nltk_data]   Package vader_lexicon is already up-to-date!\n"
          ],
          "name": "stdout"
        },
        {
          "output_type": "execute_result",
          "data": {
            "text/plain": [
              "True"
            ]
          },
          "metadata": {
            "tags": []
          },
          "execution_count": 42
        }
      ]
    },
    {
      "metadata": {
        "id": "VpqYNEhOXDo_",
        "colab_type": "code",
        "colab": {
          "base_uri": "https://localhost:8080/",
          "height": 1949
        },
        "outputId": "3bfb8489-dcc6-4cfb-b0bb-ed9216dc4e4b"
      },
      "cell_type": "code",
      "source": [
        "sid = SentimentIntensityAnalyzer()\n",
        "\n",
        "\n",
        "listy = []\n",
        "\n",
        "for index, row in data.iterrows():\n",
        "  ss = sid.polarity_scores(row[\"Tweets\"])\n",
        "  listy.append(ss)\n",
        "  \n",
        "se = pd.Series(listy)\n",
        "data['polarity'] = se.values\n",
        "\n",
        "display(data.head(100))"
      ],
      "execution_count": 43,
      "outputs": [
        {
          "output_type": "display_data",
          "data": {
            "text/html": [
              "<div>\n",
              "<style scoped>\n",
              "    .dataframe tbody tr th:only-of-type {\n",
              "        vertical-align: middle;\n",
              "    }\n",
              "\n",
              "    .dataframe tbody tr th {\n",
              "        vertical-align: top;\n",
              "    }\n",
              "\n",
              "    .dataframe thead th {\n",
              "        text-align: right;\n",
              "    }\n",
              "</style>\n",
              "<table border=\"1\" class=\"dataframe\">\n",
              "  <thead>\n",
              "    <tr style=\"text-align: right;\">\n",
              "      <th></th>\n",
              "      <th>Tweets</th>\n",
              "      <th>polarity</th>\n",
              "    </tr>\n",
              "  </thead>\n",
              "  <tbody>\n",
              "    <tr>\n",
              "      <th>0</th>\n",
              "      <td>RT @joelgrus: Here's the code I used to sample...</td>\n",
              "      <td>{'neg': 0.0, 'neu': 1.0, 'pos': 0.0, 'compound...</td>\n",
              "    </tr>\n",
              "    <tr>\n",
              "      <th>1</th>\n",
              "      <td>RT @surfstudio: Gpt-2 #ai text generator is so...</td>\n",
              "      <td>{'neg': 0.104, 'neu': 0.635, 'pos': 0.262, 'co...</td>\n",
              "    </tr>\n",
              "    <tr>\n",
              "      <th>2</th>\n",
              "      <td>RT @gp_pulipaka: Text-Generator with OpenAI GP...</td>\n",
              "      <td>{'neg': 0.0, 'neu': 1.0, 'pos': 0.0, 'compound...</td>\n",
              "    </tr>\n",
              "    <tr>\n",
              "      <th>3</th>\n",
              "      <td>RT @gp_pulipaka: Text-Generator with OpenAI GP...</td>\n",
              "      <td>{'neg': 0.0, 'neu': 1.0, 'pos': 0.0, 'compound...</td>\n",
              "    </tr>\n",
              "    <tr>\n",
              "      <th>4</th>\n",
              "      <td>RT @gp_pulipaka: Text-Generator with OpenAI GP...</td>\n",
              "      <td>{'neg': 0.0, 'neu': 1.0, 'pos': 0.0, 'compound...</td>\n",
              "    </tr>\n",
              "    <tr>\n",
              "      <th>5</th>\n",
              "      <td>RT @gp_pulipaka: Text-Generator with OpenAI GP...</td>\n",
              "      <td>{'neg': 0.0, 'neu': 1.0, 'pos': 0.0, 'compound...</td>\n",
              "    </tr>\n",
              "    <tr>\n",
              "      <th>6</th>\n",
              "      <td>RT @asierarranz: ¿No sabes cuál es el sentido ...</td>\n",
              "      <td>{'neg': 0.0, 'neu': 1.0, 'pos': 0.0, 'compound...</td>\n",
              "    </tr>\n",
              "    <tr>\n",
              "      <th>7</th>\n",
              "      <td>RT @AINewsFeed: OpenAI says its text-generatin...</td>\n",
              "      <td>{'neg': 0.162, 'neu': 0.838, 'pos': 0.0, 'comp...</td>\n",
              "    </tr>\n",
              "    <tr>\n",
              "      <th>8</th>\n",
              "      <td>RT @BenSingletonNYC: OpenAI’s GPT-2: the model...</td>\n",
              "      <td>{'neg': 0.0, 'neu': 1.0, 'pos': 0.0, 'compound...</td>\n",
              "    </tr>\n",
              "    <tr>\n",
              "      <th>9</th>\n",
              "      <td>RT @BenSingletonNYC: OpenAI’s GPT-2: the model...</td>\n",
              "      <td>{'neg': 0.0, 'neu': 1.0, 'pos': 0.0, 'compound...</td>\n",
              "    </tr>\n",
              "    <tr>\n",
              "      <th>10</th>\n",
              "      <td>RT @AngelHealthTech: OpenAI’s GPT-2: the model...</td>\n",
              "      <td>{'neg': 0.0, 'neu': 1.0, 'pos': 0.0, 'compound...</td>\n",
              "    </tr>\n",
              "    <tr>\n",
              "      <th>11</th>\n",
              "      <td>OpenAI’s GPT-2: the model, the hype, and the c...</td>\n",
              "      <td>{'neg': 0.0, 'neu': 1.0, 'pos': 0.0, 'compound...</td>\n",
              "    </tr>\n",
              "    <tr>\n",
              "      <th>12</th>\n",
              "      <td>OpenAI’s GPT-2: the model, the hype, and the c...</td>\n",
              "      <td>{'neg': 0.0, 'neu': 1.0, 'pos': 0.0, 'compound...</td>\n",
              "    </tr>\n",
              "    <tr>\n",
              "      <th>13</th>\n",
              "      <td>RT @joelgrus: Here's the code I used to sample...</td>\n",
              "      <td>{'neg': 0.0, 'neu': 1.0, 'pos': 0.0, 'compound...</td>\n",
              "    </tr>\n",
              "    <tr>\n",
              "      <th>14</th>\n",
              "      <td>RT @asierarranz: ¿No sabes cuál es el sentido ...</td>\n",
              "      <td>{'neg': 0.0, 'neu': 1.0, 'pos': 0.0, 'compound...</td>\n",
              "    </tr>\n",
              "    <tr>\n",
              "      <th>15</th>\n",
              "      <td>RT @idgmatrix: AI의 위험성을 경고한 앨런 머스크가 AI 기술이 특정 ...</td>\n",
              "      <td>{'neg': 0.0, 'neu': 1.0, 'pos': 0.0, 'compound...</td>\n",
              "    </tr>\n",
              "    <tr>\n",
              "      <th>16</th>\n",
              "      <td>@TobyWalsh @ConversationUS @OpenAI made this m...</td>\n",
              "      <td>{'neg': 0.164, 'neu': 0.836, 'pos': 0.0, 'comp...</td>\n",
              "    </tr>\n",
              "    <tr>\n",
              "      <th>17</th>\n",
              "      <td>RT @NZZWissen: Ein paar Wörter oder Sätze genü...</td>\n",
              "      <td>{'neg': 0.17, 'neu': 0.83, 'pos': 0.0, 'compou...</td>\n",
              "    </tr>\n",
              "    <tr>\n",
              "      <th>18</th>\n",
              "      <td>RT @insideCyberbuzz: #OpenAI 新一代自然語言處理（NLP）模型 ...</td>\n",
              "      <td>{'neg': 0.0, 'neu': 1.0, 'pos': 0.0, 'compound...</td>\n",
              "    </tr>\n",
              "    <tr>\n",
              "      <th>19</th>\n",
              "      <td>RT @kikko_fr: I asked @OpenAI's (smaller) GPT-...</td>\n",
              "      <td>{'neg': 0.184, 'neu': 0.816, 'pos': 0.0, 'comp...</td>\n",
              "    </tr>\n",
              "    <tr>\n",
              "      <th>20</th>\n",
              "      <td>RT @insideCyberbuzz: #OpenAI 新一代自然語言處理（NLP）模型 ...</td>\n",
              "      <td>{'neg': 0.0, 'neu': 1.0, 'pos': 0.0, 'compound...</td>\n",
              "    </tr>\n",
              "    <tr>\n",
              "      <th>21</th>\n",
              "      <td>RT @kikko_fr: I asked @OpenAI's (smaller) GPT-...</td>\n",
              "      <td>{'neg': 0.184, 'neu': 0.816, 'pos': 0.0, 'comp...</td>\n",
              "    </tr>\n",
              "    <tr>\n",
              "      <th>22</th>\n",
              "      <td>#OpenAI 新一代自然語言處理（NLP）模型 GPT-2 ，不論是編寫故事、撰寫新聞都不...</td>\n",
              "      <td>{'neg': 0.0, 'neu': 1.0, 'pos': 0.0, 'compound...</td>\n",
              "    </tr>\n",
              "    <tr>\n",
              "      <th>23</th>\n",
              "      <td>RT @kikko_fr: I asked @OpenAI's (smaller) GPT-...</td>\n",
              "      <td>{'neg': 0.184, 'neu': 0.816, 'pos': 0.0, 'comp...</td>\n",
              "    </tr>\n",
              "    <tr>\n",
              "      <th>24</th>\n",
              "      <td>https://t.co/AFyfMcD5Th\\n\\nI thought the next ...</td>\n",
              "      <td>{'neg': 0.0, 'neu': 1.0, 'pos': 0.0, 'compound...</td>\n",
              "    </tr>\n",
              "    <tr>\n",
              "      <th>25</th>\n",
              "      <td>RT @kikko_fr: I asked @OpenAI's (smaller) GPT-...</td>\n",
              "      <td>{'neg': 0.184, 'neu': 0.816, 'pos': 0.0, 'comp...</td>\n",
              "    </tr>\n",
              "    <tr>\n",
              "      <th>26</th>\n",
              "      <td>GitHub Trending Archive, 22 Feb 2019, Python. ...</td>\n",
              "      <td>{'neg': 0.0, 'neu': 1.0, 'pos': 0.0, 'compound...</td>\n",
              "    </tr>\n",
              "    <tr>\n",
              "      <th>27</th>\n",
              "      <td>RT @yutakashino: Dear OpenAI: Please Open Sour...</td>\n",
              "      <td>{'neg': 0.0, 'neu': 0.671, 'pos': 0.329, 'comp...</td>\n",
              "    </tr>\n",
              "    <tr>\n",
              "      <th>28</th>\n",
              "      <td>Meet OpenAI's controversial GPT-2,  a conversa...</td>\n",
              "      <td>{'neg': 0.167, 'neu': 0.833, 'pos': 0.0, 'comp...</td>\n",
              "    </tr>\n",
              "    <tr>\n",
              "      <th>29</th>\n",
              "      <td>GitHub Trending Archive, 22 Feb 2019, All. MiC...</td>\n",
              "      <td>{'neg': 0.0, 'neu': 1.0, 'pos': 0.0, 'compound...</td>\n",
              "    </tr>\n",
              "    <tr>\n",
              "      <th>...</th>\n",
              "      <td>...</td>\n",
              "      <td>...</td>\n",
              "    </tr>\n",
              "    <tr>\n",
              "      <th>70</th>\n",
              "      <td>RT @gp_pulipaka: Text-Generator with OpenAI GP...</td>\n",
              "      <td>{'neg': 0.0, 'neu': 1.0, 'pos': 0.0, 'compound...</td>\n",
              "    </tr>\n",
              "    <tr>\n",
              "      <th>71</th>\n",
              "      <td>RT @TomBudnik: Dlouhá cesta k strojovému pocho...</td>\n",
              "      <td>{'neg': 0.0, 'neu': 1.0, 'pos': 0.0, 'compound...</td>\n",
              "    </tr>\n",
              "    <tr>\n",
              "      <th>72</th>\n",
              "      <td>@Outsideness All that aside, the comments in t...</td>\n",
              "      <td>{'neg': 0.0, 'neu': 1.0, 'pos': 0.0, 'compound...</td>\n",
              "    </tr>\n",
              "    <tr>\n",
              "      <th>73</th>\n",
              "      <td>@Outsideness It's true, essentially anyone can...</td>\n",
              "      <td>{'neg': 0.0, 'neu': 0.823, 'pos': 0.177, 'comp...</td>\n",
              "    </tr>\n",
              "    <tr>\n",
              "      <th>74</th>\n",
              "      <td>RT @asierarranz: ¿No sabes cuál es el sentido ...</td>\n",
              "      <td>{'neg': 0.0, 'neu': 1.0, 'pos': 0.0, 'compound...</td>\n",
              "    </tr>\n",
              "    <tr>\n",
              "      <th>75</th>\n",
              "      <td>RT @icoxfog417: 言語モデルは基本的なモデルですが、最近は転移学習を行うための...</td>\n",
              "      <td>{'neg': 0.0, 'neu': 1.0, 'pos': 0.0, 'compound...</td>\n",
              "    </tr>\n",
              "    <tr>\n",
              "      <th>76</th>\n",
              "      <td>RT @icoxfog417: 言語モデルは基本的なモデルですが、最近は転移学習を行うための...</td>\n",
              "      <td>{'neg': 0.0, 'neu': 1.0, 'pos': 0.0, 'compound...</td>\n",
              "    </tr>\n",
              "    <tr>\n",
              "      <th>77</th>\n",
              "      <td>RT @nishant_shastry: RT gp_pulipaka: Text-Gene...</td>\n",
              "      <td>{'neg': 0.0, 'neu': 1.0, 'pos': 0.0, 'compound...</td>\n",
              "    </tr>\n",
              "    <tr>\n",
              "      <th>78</th>\n",
              "      <td>RT gp_pulipaka: Text-Generator with OpenAI GPT...</td>\n",
              "      <td>{'neg': 0.0, 'neu': 1.0, 'pos': 0.0, 'compound...</td>\n",
              "    </tr>\n",
              "    <tr>\n",
              "      <th>79</th>\n",
              "      <td>Je suis un peu mitigée sur la question. Ton av...</td>\n",
              "      <td>{'neg': 0.0, 'neu': 1.0, 'pos': 0.0, 'compound...</td>\n",
              "    </tr>\n",
              "    <tr>\n",
              "      <th>80</th>\n",
              "      <td>RT @NZZWissen: Ein paar Wörter oder Sätze genü...</td>\n",
              "      <td>{'neg': 0.17, 'neu': 0.83, 'pos': 0.0, 'compou...</td>\n",
              "    </tr>\n",
              "    <tr>\n",
              "      <th>81</th>\n",
              "      <td>RT @yhkondo: この記事、OpenAIが開発したGPT-2というAIモデルの出力し...</td>\n",
              "      <td>{'neg': 0.0, 'neu': 1.0, 'pos': 0.0, 'compound...</td>\n",
              "    </tr>\n",
              "    <tr>\n",
              "      <th>82</th>\n",
              "      <td>RT @LegalHackersSco: OpenAI says its text-gene...</td>\n",
              "      <td>{'neg': 0.193, 'neu': 0.807, 'pos': 0.0, 'comp...</td>\n",
              "    </tr>\n",
              "    <tr>\n",
              "      <th>83</th>\n",
              "      <td>RT @icoxfog417: 言語モデルは基本的なモデルですが、最近は転移学習を行うための...</td>\n",
              "      <td>{'neg': 0.0, 'neu': 1.0, 'pos': 0.0, 'compound...</td>\n",
              "    </tr>\n",
              "    <tr>\n",
              "      <th>84</th>\n",
              "      <td>Found this nifty colab notebook with pre-train...</td>\n",
              "      <td>{'neg': 0.0, 'neu': 0.87, 'pos': 0.13, 'compou...</td>\n",
              "    </tr>\n",
              "    <tr>\n",
              "      <th>85</th>\n",
              "      <td>RT @gp_pulipaka: Text-Generator with OpenAI GP...</td>\n",
              "      <td>{'neg': 0.0, 'neu': 1.0, 'pos': 0.0, 'compound...</td>\n",
              "    </tr>\n",
              "    <tr>\n",
              "      <th>86</th>\n",
              "      <td>RT @gp_pulipaka: Text-Generator with OpenAI GP...</td>\n",
              "      <td>{'neg': 0.0, 'neu': 1.0, 'pos': 0.0, 'compound...</td>\n",
              "    </tr>\n",
              "    <tr>\n",
              "      <th>87</th>\n",
              "      <td>RT @NZZWissen: Ein paar Wörter oder Sätze genü...</td>\n",
              "      <td>{'neg': 0.17, 'neu': 0.83, 'pos': 0.0, 'compou...</td>\n",
              "    </tr>\n",
              "    <tr>\n",
              "      <th>88</th>\n",
              "      <td>RT @NZZWissen: Ein paar Wörter oder Sätze genü...</td>\n",
              "      <td>{'neg': 0.17, 'neu': 0.83, 'pos': 0.0, 'compou...</td>\n",
              "    </tr>\n",
              "    <tr>\n",
              "      <th>89</th>\n",
              "      <td>RT @icoxfog417: 言語モデルは基本的なモデルですが、最近は転移学習を行うための...</td>\n",
              "      <td>{'neg': 0.0, 'neu': 1.0, 'pos': 0.0, 'compound...</td>\n",
              "    </tr>\n",
              "    <tr>\n",
              "      <th>90</th>\n",
              "      <td>言語モデルは基本的なモデルですが、最近は転移学習を行うための事前学習として用いられるなど、重...</td>\n",
              "      <td>{'neg': 0.0, 'neu': 1.0, 'pos': 0.0, 'compound...</td>\n",
              "    </tr>\n",
              "    <tr>\n",
              "      <th>91</th>\n",
              "      <td>RT @gp_pulipaka: Text-Generator with OpenAI GP...</td>\n",
              "      <td>{'neg': 0.0, 'neu': 1.0, 'pos': 0.0, 'compound...</td>\n",
              "    </tr>\n",
              "    <tr>\n",
              "      <th>92</th>\n",
              "      <td>RT @gp_pulipaka: Text-Generator with OpenAI GP...</td>\n",
              "      <td>{'neg': 0.0, 'neu': 1.0, 'pos': 0.0, 'compound...</td>\n",
              "    </tr>\n",
              "    <tr>\n",
              "      <th>93</th>\n",
              "      <td>RT @gp_pulipaka: Text-Generator with OpenAI GP...</td>\n",
              "      <td>{'neg': 0.0, 'neu': 1.0, 'pos': 0.0, 'compound...</td>\n",
              "    </tr>\n",
              "    <tr>\n",
              "      <th>94</th>\n",
              "      <td>RT @gp_pulipaka: Text-Generator with OpenAI GP...</td>\n",
              "      <td>{'neg': 0.0, 'neu': 1.0, 'pos': 0.0, 'compound...</td>\n",
              "    </tr>\n",
              "    <tr>\n",
              "      <th>95</th>\n",
              "      <td>RT @gp_pulipaka: Text-Generator with OpenAI GP...</td>\n",
              "      <td>{'neg': 0.0, 'neu': 1.0, 'pos': 0.0, 'compound...</td>\n",
              "    </tr>\n",
              "    <tr>\n",
              "      <th>96</th>\n",
              "      <td>RT @yhkondo: この記事、OpenAIが開発したGPT-2というAIモデルの出力し...</td>\n",
              "      <td>{'neg': 0.0, 'neu': 1.0, 'pos': 0.0, 'compound...</td>\n",
              "    </tr>\n",
              "    <tr>\n",
              "      <th>97</th>\n",
              "      <td>RT @gp_pulipaka: Text-Generator with OpenAI GP...</td>\n",
              "      <td>{'neg': 0.0, 'neu': 1.0, 'pos': 0.0, 'compound...</td>\n",
              "    </tr>\n",
              "    <tr>\n",
              "      <th>98</th>\n",
              "      <td>RT @gp_pulipaka: Text-Generator with OpenAI GP...</td>\n",
              "      <td>{'neg': 0.0, 'neu': 1.0, 'pos': 0.0, 'compound...</td>\n",
              "    </tr>\n",
              "    <tr>\n",
              "      <th>99</th>\n",
              "      <td>RT @gp_pulipaka: Text-Generator with OpenAI GP...</td>\n",
              "      <td>{'neg': 0.0, 'neu': 1.0, 'pos': 0.0, 'compound...</td>\n",
              "    </tr>\n",
              "  </tbody>\n",
              "</table>\n",
              "<p>100 rows × 2 columns</p>\n",
              "</div>"
            ],
            "text/plain": [
              "                                               Tweets  \\\n",
              "0   RT @joelgrus: Here's the code I used to sample...   \n",
              "1   RT @surfstudio: Gpt-2 #ai text generator is so...   \n",
              "2   RT @gp_pulipaka: Text-Generator with OpenAI GP...   \n",
              "3   RT @gp_pulipaka: Text-Generator with OpenAI GP...   \n",
              "4   RT @gp_pulipaka: Text-Generator with OpenAI GP...   \n",
              "5   RT @gp_pulipaka: Text-Generator with OpenAI GP...   \n",
              "6   RT @asierarranz: ¿No sabes cuál es el sentido ...   \n",
              "7   RT @AINewsFeed: OpenAI says its text-generatin...   \n",
              "8   RT @BenSingletonNYC: OpenAI’s GPT-2: the model...   \n",
              "9   RT @BenSingletonNYC: OpenAI’s GPT-2: the model...   \n",
              "10  RT @AngelHealthTech: OpenAI’s GPT-2: the model...   \n",
              "11  OpenAI’s GPT-2: the model, the hype, and the c...   \n",
              "12  OpenAI’s GPT-2: the model, the hype, and the c...   \n",
              "13  RT @joelgrus: Here's the code I used to sample...   \n",
              "14  RT @asierarranz: ¿No sabes cuál es el sentido ...   \n",
              "15  RT @idgmatrix: AI의 위험성을 경고한 앨런 머스크가 AI 기술이 특정 ...   \n",
              "16  @TobyWalsh @ConversationUS @OpenAI made this m...   \n",
              "17  RT @NZZWissen: Ein paar Wörter oder Sätze genü...   \n",
              "18  RT @insideCyberbuzz: #OpenAI 新一代自然語言處理（NLP）模型 ...   \n",
              "19  RT @kikko_fr: I asked @OpenAI's (smaller) GPT-...   \n",
              "20  RT @insideCyberbuzz: #OpenAI 新一代自然語言處理（NLP）模型 ...   \n",
              "21  RT @kikko_fr: I asked @OpenAI's (smaller) GPT-...   \n",
              "22  #OpenAI 新一代自然語言處理（NLP）模型 GPT-2 ，不論是編寫故事、撰寫新聞都不...   \n",
              "23  RT @kikko_fr: I asked @OpenAI's (smaller) GPT-...   \n",
              "24  https://t.co/AFyfMcD5Th\\n\\nI thought the next ...   \n",
              "25  RT @kikko_fr: I asked @OpenAI's (smaller) GPT-...   \n",
              "26  GitHub Trending Archive, 22 Feb 2019, Python. ...   \n",
              "27  RT @yutakashino: Dear OpenAI: Please Open Sour...   \n",
              "28  Meet OpenAI's controversial GPT-2,  a conversa...   \n",
              "29  GitHub Trending Archive, 22 Feb 2019, All. MiC...   \n",
              "..                                                ...   \n",
              "70  RT @gp_pulipaka: Text-Generator with OpenAI GP...   \n",
              "71  RT @TomBudnik: Dlouhá cesta k strojovému pocho...   \n",
              "72  @Outsideness All that aside, the comments in t...   \n",
              "73  @Outsideness It's true, essentially anyone can...   \n",
              "74  RT @asierarranz: ¿No sabes cuál es el sentido ...   \n",
              "75  RT @icoxfog417: 言語モデルは基本的なモデルですが、最近は転移学習を行うための...   \n",
              "76  RT @icoxfog417: 言語モデルは基本的なモデルですが、最近は転移学習を行うための...   \n",
              "77  RT @nishant_shastry: RT gp_pulipaka: Text-Gene...   \n",
              "78  RT gp_pulipaka: Text-Generator with OpenAI GPT...   \n",
              "79  Je suis un peu mitigée sur la question. Ton av...   \n",
              "80  RT @NZZWissen: Ein paar Wörter oder Sätze genü...   \n",
              "81  RT @yhkondo: この記事、OpenAIが開発したGPT-2というAIモデルの出力し...   \n",
              "82  RT @LegalHackersSco: OpenAI says its text-gene...   \n",
              "83  RT @icoxfog417: 言語モデルは基本的なモデルですが、最近は転移学習を行うための...   \n",
              "84  Found this nifty colab notebook with pre-train...   \n",
              "85  RT @gp_pulipaka: Text-Generator with OpenAI GP...   \n",
              "86  RT @gp_pulipaka: Text-Generator with OpenAI GP...   \n",
              "87  RT @NZZWissen: Ein paar Wörter oder Sätze genü...   \n",
              "88  RT @NZZWissen: Ein paar Wörter oder Sätze genü...   \n",
              "89  RT @icoxfog417: 言語モデルは基本的なモデルですが、最近は転移学習を行うための...   \n",
              "90  言語モデルは基本的なモデルですが、最近は転移学習を行うための事前学習として用いられるなど、重...   \n",
              "91  RT @gp_pulipaka: Text-Generator with OpenAI GP...   \n",
              "92  RT @gp_pulipaka: Text-Generator with OpenAI GP...   \n",
              "93  RT @gp_pulipaka: Text-Generator with OpenAI GP...   \n",
              "94  RT @gp_pulipaka: Text-Generator with OpenAI GP...   \n",
              "95  RT @gp_pulipaka: Text-Generator with OpenAI GP...   \n",
              "96  RT @yhkondo: この記事、OpenAIが開発したGPT-2というAIモデルの出力し...   \n",
              "97  RT @gp_pulipaka: Text-Generator with OpenAI GP...   \n",
              "98  RT @gp_pulipaka: Text-Generator with OpenAI GP...   \n",
              "99  RT @gp_pulipaka: Text-Generator with OpenAI GP...   \n",
              "\n",
              "                                             polarity  \n",
              "0   {'neg': 0.0, 'neu': 1.0, 'pos': 0.0, 'compound...  \n",
              "1   {'neg': 0.104, 'neu': 0.635, 'pos': 0.262, 'co...  \n",
              "2   {'neg': 0.0, 'neu': 1.0, 'pos': 0.0, 'compound...  \n",
              "3   {'neg': 0.0, 'neu': 1.0, 'pos': 0.0, 'compound...  \n",
              "4   {'neg': 0.0, 'neu': 1.0, 'pos': 0.0, 'compound...  \n",
              "5   {'neg': 0.0, 'neu': 1.0, 'pos': 0.0, 'compound...  \n",
              "6   {'neg': 0.0, 'neu': 1.0, 'pos': 0.0, 'compound...  \n",
              "7   {'neg': 0.162, 'neu': 0.838, 'pos': 0.0, 'comp...  \n",
              "8   {'neg': 0.0, 'neu': 1.0, 'pos': 0.0, 'compound...  \n",
              "9   {'neg': 0.0, 'neu': 1.0, 'pos': 0.0, 'compound...  \n",
              "10  {'neg': 0.0, 'neu': 1.0, 'pos': 0.0, 'compound...  \n",
              "11  {'neg': 0.0, 'neu': 1.0, 'pos': 0.0, 'compound...  \n",
              "12  {'neg': 0.0, 'neu': 1.0, 'pos': 0.0, 'compound...  \n",
              "13  {'neg': 0.0, 'neu': 1.0, 'pos': 0.0, 'compound...  \n",
              "14  {'neg': 0.0, 'neu': 1.0, 'pos': 0.0, 'compound...  \n",
              "15  {'neg': 0.0, 'neu': 1.0, 'pos': 0.0, 'compound...  \n",
              "16  {'neg': 0.164, 'neu': 0.836, 'pos': 0.0, 'comp...  \n",
              "17  {'neg': 0.17, 'neu': 0.83, 'pos': 0.0, 'compou...  \n",
              "18  {'neg': 0.0, 'neu': 1.0, 'pos': 0.0, 'compound...  \n",
              "19  {'neg': 0.184, 'neu': 0.816, 'pos': 0.0, 'comp...  \n",
              "20  {'neg': 0.0, 'neu': 1.0, 'pos': 0.0, 'compound...  \n",
              "21  {'neg': 0.184, 'neu': 0.816, 'pos': 0.0, 'comp...  \n",
              "22  {'neg': 0.0, 'neu': 1.0, 'pos': 0.0, 'compound...  \n",
              "23  {'neg': 0.184, 'neu': 0.816, 'pos': 0.0, 'comp...  \n",
              "24  {'neg': 0.0, 'neu': 1.0, 'pos': 0.0, 'compound...  \n",
              "25  {'neg': 0.184, 'neu': 0.816, 'pos': 0.0, 'comp...  \n",
              "26  {'neg': 0.0, 'neu': 1.0, 'pos': 0.0, 'compound...  \n",
              "27  {'neg': 0.0, 'neu': 0.671, 'pos': 0.329, 'comp...  \n",
              "28  {'neg': 0.167, 'neu': 0.833, 'pos': 0.0, 'comp...  \n",
              "29  {'neg': 0.0, 'neu': 1.0, 'pos': 0.0, 'compound...  \n",
              "..                                                ...  \n",
              "70  {'neg': 0.0, 'neu': 1.0, 'pos': 0.0, 'compound...  \n",
              "71  {'neg': 0.0, 'neu': 1.0, 'pos': 0.0, 'compound...  \n",
              "72  {'neg': 0.0, 'neu': 1.0, 'pos': 0.0, 'compound...  \n",
              "73  {'neg': 0.0, 'neu': 0.823, 'pos': 0.177, 'comp...  \n",
              "74  {'neg': 0.0, 'neu': 1.0, 'pos': 0.0, 'compound...  \n",
              "75  {'neg': 0.0, 'neu': 1.0, 'pos': 0.0, 'compound...  \n",
              "76  {'neg': 0.0, 'neu': 1.0, 'pos': 0.0, 'compound...  \n",
              "77  {'neg': 0.0, 'neu': 1.0, 'pos': 0.0, 'compound...  \n",
              "78  {'neg': 0.0, 'neu': 1.0, 'pos': 0.0, 'compound...  \n",
              "79  {'neg': 0.0, 'neu': 1.0, 'pos': 0.0, 'compound...  \n",
              "80  {'neg': 0.17, 'neu': 0.83, 'pos': 0.0, 'compou...  \n",
              "81  {'neg': 0.0, 'neu': 1.0, 'pos': 0.0, 'compound...  \n",
              "82  {'neg': 0.193, 'neu': 0.807, 'pos': 0.0, 'comp...  \n",
              "83  {'neg': 0.0, 'neu': 1.0, 'pos': 0.0, 'compound...  \n",
              "84  {'neg': 0.0, 'neu': 0.87, 'pos': 0.13, 'compou...  \n",
              "85  {'neg': 0.0, 'neu': 1.0, 'pos': 0.0, 'compound...  \n",
              "86  {'neg': 0.0, 'neu': 1.0, 'pos': 0.0, 'compound...  \n",
              "87  {'neg': 0.17, 'neu': 0.83, 'pos': 0.0, 'compou...  \n",
              "88  {'neg': 0.17, 'neu': 0.83, 'pos': 0.0, 'compou...  \n",
              "89  {'neg': 0.0, 'neu': 1.0, 'pos': 0.0, 'compound...  \n",
              "90  {'neg': 0.0, 'neu': 1.0, 'pos': 0.0, 'compound...  \n",
              "91  {'neg': 0.0, 'neu': 1.0, 'pos': 0.0, 'compound...  \n",
              "92  {'neg': 0.0, 'neu': 1.0, 'pos': 0.0, 'compound...  \n",
              "93  {'neg': 0.0, 'neu': 1.0, 'pos': 0.0, 'compound...  \n",
              "94  {'neg': 0.0, 'neu': 1.0, 'pos': 0.0, 'compound...  \n",
              "95  {'neg': 0.0, 'neu': 1.0, 'pos': 0.0, 'compound...  \n",
              "96  {'neg': 0.0, 'neu': 1.0, 'pos': 0.0, 'compound...  \n",
              "97  {'neg': 0.0, 'neu': 1.0, 'pos': 0.0, 'compound...  \n",
              "98  {'neg': 0.0, 'neu': 1.0, 'pos': 0.0, 'compound...  \n",
              "99  {'neg': 0.0, 'neu': 1.0, 'pos': 0.0, 'compound...  \n",
              "\n",
              "[100 rows x 2 columns]"
            ]
          },
          "metadata": {
            "tags": []
          }
        }
      ]
    },
    {
      "metadata": {
        "id": "ieKC7ntRXHH-",
        "colab_type": "code",
        "colab": {
          "base_uri": "https://localhost:8080/",
          "height": 35
        },
        "outputId": "a716ecb6-66f7-4d60-8f7f-cd9a9af677ae"
      },
      "cell_type": "code",
      "source": [
        "data.shape"
      ],
      "execution_count": 44,
      "outputs": [
        {
          "output_type": "execute_result",
          "data": {
            "text/plain": [
              "(100, 2)"
            ]
          },
          "metadata": {
            "tags": []
          },
          "execution_count": 44
        }
      ]
    },
    {
      "metadata": {
        "id": "Q8qT9-4dXM30",
        "colab_type": "code",
        "colab": {
          "base_uri": "https://localhost:8080/",
          "height": 202
        },
        "outputId": "d2187eca-3159-4a07-d4c6-cc88874e471d"
      },
      "cell_type": "code",
      "source": [
        "data.head()"
      ],
      "execution_count": 45,
      "outputs": [
        {
          "output_type": "execute_result",
          "data": {
            "text/html": [
              "<div>\n",
              "<style scoped>\n",
              "    .dataframe tbody tr th:only-of-type {\n",
              "        vertical-align: middle;\n",
              "    }\n",
              "\n",
              "    .dataframe tbody tr th {\n",
              "        vertical-align: top;\n",
              "    }\n",
              "\n",
              "    .dataframe thead th {\n",
              "        text-align: right;\n",
              "    }\n",
              "</style>\n",
              "<table border=\"1\" class=\"dataframe\">\n",
              "  <thead>\n",
              "    <tr style=\"text-align: right;\">\n",
              "      <th></th>\n",
              "      <th>Tweets</th>\n",
              "      <th>polarity</th>\n",
              "    </tr>\n",
              "  </thead>\n",
              "  <tbody>\n",
              "    <tr>\n",
              "      <th>0</th>\n",
              "      <td>RT @joelgrus: Here's the code I used to sample...</td>\n",
              "      <td>{'neg': 0.0, 'neu': 1.0, 'pos': 0.0, 'compound...</td>\n",
              "    </tr>\n",
              "    <tr>\n",
              "      <th>1</th>\n",
              "      <td>RT @surfstudio: Gpt-2 #ai text generator is so...</td>\n",
              "      <td>{'neg': 0.104, 'neu': 0.635, 'pos': 0.262, 'co...</td>\n",
              "    </tr>\n",
              "    <tr>\n",
              "      <th>2</th>\n",
              "      <td>RT @gp_pulipaka: Text-Generator with OpenAI GP...</td>\n",
              "      <td>{'neg': 0.0, 'neu': 1.0, 'pos': 0.0, 'compound...</td>\n",
              "    </tr>\n",
              "    <tr>\n",
              "      <th>3</th>\n",
              "      <td>RT @gp_pulipaka: Text-Generator with OpenAI GP...</td>\n",
              "      <td>{'neg': 0.0, 'neu': 1.0, 'pos': 0.0, 'compound...</td>\n",
              "    </tr>\n",
              "    <tr>\n",
              "      <th>4</th>\n",
              "      <td>RT @gp_pulipaka: Text-Generator with OpenAI GP...</td>\n",
              "      <td>{'neg': 0.0, 'neu': 1.0, 'pos': 0.0, 'compound...</td>\n",
              "    </tr>\n",
              "  </tbody>\n",
              "</table>\n",
              "</div>"
            ],
            "text/plain": [
              "                                              Tweets  \\\n",
              "0  RT @joelgrus: Here's the code I used to sample...   \n",
              "1  RT @surfstudio: Gpt-2 #ai text generator is so...   \n",
              "2  RT @gp_pulipaka: Text-Generator with OpenAI GP...   \n",
              "3  RT @gp_pulipaka: Text-Generator with OpenAI GP...   \n",
              "4  RT @gp_pulipaka: Text-Generator with OpenAI GP...   \n",
              "\n",
              "                                            polarity  \n",
              "0  {'neg': 0.0, 'neu': 1.0, 'pos': 0.0, 'compound...  \n",
              "1  {'neg': 0.104, 'neu': 0.635, 'pos': 0.262, 'co...  \n",
              "2  {'neg': 0.0, 'neu': 1.0, 'pos': 0.0, 'compound...  \n",
              "3  {'neg': 0.0, 'neu': 1.0, 'pos': 0.0, 'compound...  \n",
              "4  {'neg': 0.0, 'neu': 1.0, 'pos': 0.0, 'compound...  "
            ]
          },
          "metadata": {
            "tags": []
          },
          "execution_count": 45
        }
      ]
    },
    {
      "metadata": {
        "id": "le3O1_dOYiMS",
        "colab_type": "code",
        "colab": {}
      },
      "cell_type": "code",
      "source": [
        "data['negative'] = ''\n",
        "data['neutral'] = ''\n",
        "data['positive'] = ''\n",
        "data['compound'] = ''"
      ],
      "execution_count": 0,
      "outputs": []
    },
    {
      "metadata": {
        "id": "cCs2k82VYGtL",
        "colab_type": "code",
        "colab": {}
      },
      "cell_type": "code",
      "source": [
        "for i in data.index.values:\n",
        "  polarity = data.polarity[i]\n",
        "  data.at[i, 'negative'] = polarity['neg']\n",
        "  data.at[i, 'neutral'] = polarity['neu']\n",
        "  data.at[i, 'positive'] = polarity['pos']\n",
        "  data.at[i, 'compound'] = polarity['compound']"
      ],
      "execution_count": 0,
      "outputs": []
    },
    {
      "metadata": {
        "id": "Z3oRIygPZnK3",
        "colab_type": "code",
        "colab": {}
      },
      "cell_type": "code",
      "source": [
        "data[['negative', 'neutral', 'positive', 'compound']] = data[['negative', 'neutral', 'positive', 'compound']].astype(float)"
      ],
      "execution_count": 0,
      "outputs": []
    },
    {
      "metadata": {
        "id": "BjYw_YIcZ-Sc",
        "colab_type": "code",
        "colab": {
          "base_uri": "https://localhost:8080/",
          "height": 294
        },
        "outputId": "dbedb905-ba2f-47a8-c198-0fbfbaddceb9"
      },
      "cell_type": "code",
      "source": [
        "data[['negative', 'neutral', 'positive', 'compound']].describe()"
      ],
      "execution_count": 49,
      "outputs": [
        {
          "output_type": "execute_result",
          "data": {
            "text/html": [
              "<div>\n",
              "<style scoped>\n",
              "    .dataframe tbody tr th:only-of-type {\n",
              "        vertical-align: middle;\n",
              "    }\n",
              "\n",
              "    .dataframe tbody tr th {\n",
              "        vertical-align: top;\n",
              "    }\n",
              "\n",
              "    .dataframe thead th {\n",
              "        text-align: right;\n",
              "    }\n",
              "</style>\n",
              "<table border=\"1\" class=\"dataframe\">\n",
              "  <thead>\n",
              "    <tr style=\"text-align: right;\">\n",
              "      <th></th>\n",
              "      <th>negative</th>\n",
              "      <th>neutral</th>\n",
              "      <th>positive</th>\n",
              "      <th>compound</th>\n",
              "    </tr>\n",
              "  </thead>\n",
              "  <tbody>\n",
              "    <tr>\n",
              "      <th>count</th>\n",
              "      <td>100.000000</td>\n",
              "      <td>100.000000</td>\n",
              "      <td>100.000000</td>\n",
              "      <td>100.000000</td>\n",
              "    </tr>\n",
              "    <tr>\n",
              "      <th>mean</th>\n",
              "      <td>0.049720</td>\n",
              "      <td>0.925300</td>\n",
              "      <td>0.024980</td>\n",
              "      <td>-0.061655</td>\n",
              "    </tr>\n",
              "    <tr>\n",
              "      <th>std</th>\n",
              "      <td>0.082388</td>\n",
              "      <td>0.104129</td>\n",
              "      <td>0.069149</td>\n",
              "      <td>0.282513</td>\n",
              "    </tr>\n",
              "    <tr>\n",
              "      <th>min</th>\n",
              "      <td>0.000000</td>\n",
              "      <td>0.625000</td>\n",
              "      <td>0.000000</td>\n",
              "      <td>-0.778300</td>\n",
              "    </tr>\n",
              "    <tr>\n",
              "      <th>25%</th>\n",
              "      <td>0.000000</td>\n",
              "      <td>0.830000</td>\n",
              "      <td>0.000000</td>\n",
              "      <td>-0.089275</td>\n",
              "    </tr>\n",
              "    <tr>\n",
              "      <th>50%</th>\n",
              "      <td>0.000000</td>\n",
              "      <td>1.000000</td>\n",
              "      <td>0.000000</td>\n",
              "      <td>0.000000</td>\n",
              "    </tr>\n",
              "    <tr>\n",
              "      <th>75%</th>\n",
              "      <td>0.160250</td>\n",
              "      <td>1.000000</td>\n",
              "      <td>0.000000</td>\n",
              "      <td>0.000000</td>\n",
              "    </tr>\n",
              "    <tr>\n",
              "      <th>max</th>\n",
              "      <td>0.327000</td>\n",
              "      <td>1.000000</td>\n",
              "      <td>0.329000</td>\n",
              "      <td>0.694800</td>\n",
              "    </tr>\n",
              "  </tbody>\n",
              "</table>\n",
              "</div>"
            ],
            "text/plain": [
              "         negative     neutral    positive    compound\n",
              "count  100.000000  100.000000  100.000000  100.000000\n",
              "mean     0.049720    0.925300    0.024980   -0.061655\n",
              "std      0.082388    0.104129    0.069149    0.282513\n",
              "min      0.000000    0.625000    0.000000   -0.778300\n",
              "25%      0.000000    0.830000    0.000000   -0.089275\n",
              "50%      0.000000    1.000000    0.000000    0.000000\n",
              "75%      0.160250    1.000000    0.000000    0.000000\n",
              "max      0.327000    1.000000    0.329000    0.694800"
            ]
          },
          "metadata": {
            "tags": []
          },
          "execution_count": 49
        }
      ]
    },
    {
      "metadata": {
        "id": "ZJhCkuQhaArt",
        "colab_type": "code",
        "colab": {}
      },
      "cell_type": "code",
      "source": [
        ""
      ],
      "execution_count": 0,
      "outputs": []
    },
    {
      "metadata": {
        "id": "t3XwEtvhYMYL",
        "colab_type": "code",
        "colab": {
          "base_uri": "https://localhost:8080/",
          "height": 35
        },
        "outputId": "8d46e776-ff6e-4189-9b6b-ecde88865ae5"
      },
      "cell_type": "code",
      "source": [
        "data.polarity[0]['neg']"
      ],
      "execution_count": 20,
      "outputs": [
        {
          "output_type": "execute_result",
          "data": {
            "text/plain": [
              "0.0"
            ]
          },
          "metadata": {
            "tags": []
          },
          "execution_count": 20
        }
      ]
    },
    {
      "metadata": {
        "id": "qhPuoZSxYd1Y",
        "colab_type": "code",
        "colab": {}
      },
      "cell_type": "code",
      "source": [
        ""
      ],
      "execution_count": 0,
      "outputs": []
    },
    {
      "metadata": {
        "id": "eSimqnTUX8Cq",
        "colab_type": "code",
        "colab": {
          "base_uri": "https://localhost:8080/",
          "height": 35
        },
        "outputId": "0701a0d2-43b6-4671-8665-62ad0548ee74"
      },
      "cell_type": "code",
      "source": [
        "list(data.polarity[0].values())"
      ],
      "execution_count": 16,
      "outputs": [
        {
          "output_type": "execute_result",
          "data": {
            "text/plain": [
              "[0.0, 1.0, 0.0, 0.0]"
            ]
          },
          "metadata": {
            "tags": []
          },
          "execution_count": 16
        }
      ]
    }
  ]
}